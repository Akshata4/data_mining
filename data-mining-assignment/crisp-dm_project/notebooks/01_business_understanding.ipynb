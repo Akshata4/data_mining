{
 "cells": [
  {
   "cell_type": "markdown",
   "id": "b0aeabd2",
   "metadata": {},
   "source": [
    "\n",
    "# Phase 1: Business Understanding\n",
    "\n",
    "## Objective Clarification\n",
    "- Understand the factors affecting graduate admission.\n",
    "- Predict admission chances using relevant features from the dataset.\n",
    "\n",
    "## Situation Assessment\n",
    "- **Resources**: Graduate admission dataset from Kaggle.\n",
    "- **Constraints**: CPU-only processing, reproducible results with fixed seeds, prevent data leakage.\n",
    "- **Assumptions**: Dataset is clean and accurately represents factors influencing admission.\n",
    "- **Risks**: Data leakage, overfitting, and potential bias in predictions.\n",
    "\n",
    "## Determine Data Mining Goals\n",
    "- Predict the probability of admission based on GRE scores, TOEFL scores, university ratings, etc.\n",
    "- Evaluate features for their predictive power and relevance.\n",
    "\n",
    "## Produce Project Plan\n",
    "- Document findings and insights in the Jupyter notebook.\n",
    "- Develop a roadmap for future phases: Data Understanding, Data Preparation, Modeling, Evaluation, Deployment.\n",
    "\n",
    "---\n",
    "\n",
    "**Next Steps**\n",
    "- Proceed to Data Understanding phase upon completion of documentation.\n"
   ]
  }
 ],
 "metadata": {},
 "nbformat": 4,
 "nbformat_minor": 5
}