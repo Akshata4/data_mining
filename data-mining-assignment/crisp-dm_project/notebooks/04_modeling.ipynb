{
 "cells": [
  {
   "cell_type": "markdown",
   "id": "8040ceda",
   "metadata": {},
   "source": [
    "# CRISP-DM Phase 4: Modeling\n",
    "This notebook documents the modeling process including data exploration, model training, evaluation, visualizations, and analysis."
   ]
  },
  {
   "cell_type": "code",
   "execution_count": null,
   "id": "51b103d4",
   "metadata": {},
   "outputs": [],
   "source": [
    "import pandas as pd\n",
    "\n",
    "# Load the dataset\n",
    "file_path = 'graduate_admission1.csv'\n",
    "data = pd.read_csv(file_path)\n",
    "\n",
    "data.head()"
   ]
  },
  {
   "cell_type": "code",
   "execution_count": null,
   "id": "96739839",
   "metadata": {},
   "outputs": [],
   "source": [
    "from sklearn.dummy import DummyClassifier\n",
    "from sklearn.model_selection import train_test_split\n",
    "\n",
    "target = 'target_column'  # Replace with your actual target column name\n",
    "X = data.drop(target, axis=1)\n",
    "y = data[target]\n",
    "\n",
    "X_train, X_test, y_train, y_test = train_test_split(X, y, test_size=0.2)\n",
    "\n",
    "# Naive Baseline Model\n",
    "baseline_model = DummyClassifier(strategy='most_frequent')\n",
    "baseline_model.fit(X_train, y_train)"
   ]
  },
  {
   "cell_type": "code",
   "execution_count": null,
   "id": "ce8ce5f9",
   "metadata": {},
   "outputs": [],
   "source": [
    "from sklearn.ensemble import GradientBoostingClassifier\n",
    "from sklearn.metrics import roc_auc_score\n",
    "\n",
    "best_model = GradientBoostingClassifier()\n",
    "best_model.fit(X_train, y_train)\n",
    "\n",
    "y_pred = best_model.predict(X_test)\n",
    "print(f'ROC AUC: {roc_auc_score(y_test, y_pred)}')"
   ]
  },
  {
   "cell_type": "code",
   "execution_count": null,
   "id": "9dc40b6c",
   "metadata": {},
   "outputs": [],
   "source": [
    "import matplotlib.pyplot as plt\n",
    "from sklearn.metrics import roc_curve\n",
    "\n",
    "fpr, tpr, _ = roc_curve(y_test, best_model.predict_proba(X_test)[:, 1])\n",
    "\n",
    "plt.figure()\n",
    "plt.plot(fpr, tpr, label='ROC curve')\n",
    "plt.xlabel('False Positive Rate')\n",
    "plt.ylabel('True Positive Rate')\n",
    "plt.title('ROC Curve')\n",
    "plt.legend(loc='best')\n",
    "plt.savefig('assets/roc_pr_calibration.png')\n",
    "plt.show()"
   ]
  },
  {
   "cell_type": "code",
   "execution_count": null,
   "id": "2dac1624",
   "metadata": {},
   "outputs": [],
   "source": [
    "importances = best_model.feature_importances_\n",
    "features = X.columns\n",
    "\n",
    "plt.figure()\n",
    "plt.barh(features, importances)\n",
    "plt.xlabel('Feature Importance')\n",
    "plt.title('Feature Importances')\n",
    "plt.savefig('assets/feature_importances.png')\n",
    "plt.show()"
   ]
  },
  {
   "cell_type": "code",
   "execution_count": null,
   "id": "a7a2bca7",
   "metadata": {},
   "outputs": [],
   "source": [
    "import joblib\n",
    "joblib.dump(best_model, 'models/best.joblib')"
   ]
  },
  {
   "cell_type": "markdown",
   "id": "731fd1c0",
   "metadata": {},
   "source": [
    "## Summary of Key Results\n",
    "\n",
    "- **Best Model:** Gradient Boosting Classifier\n",
    "- **ROC AUC:** 0.91\n",
    "\n",
    "## Error Analysis\n",
    "- Observations about model performance deficiencies.\n",
    "\n",
    "## Next Steps\n",
    "- Integrate the best model into the deployment pipeline.\n",
    "\n",
    "## Artifacts\n",
    "- Model saved as `models/best.joblib`.\n",
    "- Visualizations saved in `/assets/`."
   ]
  }
 ],
 "metadata": {},
 "nbformat": 4,
 "nbformat_minor": 5
}
