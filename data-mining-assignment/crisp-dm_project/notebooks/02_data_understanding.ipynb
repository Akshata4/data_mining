{
 "cells": [
  {
   "cell_type": "code",
   "execution_count": null,
   "id": "6baaf39e",
   "metadata": {},
   "outputs": [],
   "source": [
    "\n",
    "import pandas as pd\n",
    "\n",
    "# Load the dataset\n",
    "data = pd.read_csv('graduate_admission1.csv')\n",
    "\n",
    "# Display basic information about the data\n",
    "data_info = {\n",
    "    'shape': data.shape,\n",
    "    'columns': data.columns.tolist(),\n",
    "    'head': data.head(),\n",
    "    'data_types': data.dtypes.to_dict()\n",
    "}\n",
    "data_info\n"
   ]
  },
  {
   "cell_type": "markdown",
   "id": "1c3d3300",
   "metadata": {},
   "source": [
    "\n",
    "# Phase 2: Data Understanding\n",
    "\n",
    "## Dataset Overview\n",
    "- **Number of Samples and Features:** 1000 samples, 8 features\n",
    "- **Columns:** GRE Score, TOEFL Score, University Rating, SOP, LOR , GPA, Research, Chance of Admit\n",
    "- **Data Types:** {'GRE Score': dtype('int64'), 'TOEFL Score': dtype('int64'), 'University Rating': dtype('int64'), 'SOP': dtype('float64'), 'LOR ': dtype('float64'), 'GPA': dtype('float64'), 'Research': dtype('int64'), 'Chance of Admit': dtype('float64')}\n",
    "\n",
    "## Initial Data\n",
    "Here is a preview of the first few rows of the dataset:\n",
    "``` \n",
    "   GRE Score  TOEFL Score  University Rating  SOP  LOR    GPA  Research  \\\n",
    "0        295           96                  2  4.9   1.7  2.93         0   \n",
    "1        340          119                  3  4.1   1.7  3.76         0   \n",
    "2        336           96                  1  3.2   1.8  3.12         1   \n",
    "3        337          108                  4  3.4   1.3  2.11         0   \n",
    "4        323           98                  1  1.1   1.3  3.40         0   \n",
    "\n",
    "   Chance of Admit  \n",
    "0            0.612  \n",
    "1            0.708  \n",
    "2            0.728  \n",
    "3            0.643  \n",
    "4            0.524   \n",
    "```\n",
    "\n"
   ]
  }
 ],
 "metadata": {},
 "nbformat": 4,
 "nbformat_minor": 5
}
